{
 "cells": [
  {
   "cell_type": "markdown",
   "metadata": {
    "slideshow": {
     "slide_type": "slide"
    }
   },
   "source": [
    "# Programming Assignment: Data Science Basics"
   ]
  },
  {
   "cell_type": "markdown",
   "metadata": {},
   "source": [
    "In this programming assignment you need to apply your new `numpy`, `pandas` and `matplotlib` knowledge. You will need to do several [`groupby`](https://pandas.pydata.org/pandas-docs/stable/generated/pandas.DataFrame.groupby.html)s and [`join`](https://pandas.pydata.org/pandas-docs/stable/generated/pandas.DataFrame.join.html)`s to solve the task. "
   ]
  },
  {
   "cell_type": "code",
   "execution_count": null,
   "metadata": {
    "slideshow": {
     "slide_type": "fragment"
    }
   },
   "outputs": [],
   "source": [
    "# Import Packages\n",
    "import pandas as pd\n",
    "import numpy as np\n",
    "import os\n",
    "import matplotlib.pyplot as plt\n",
    "%matplotlib inline "
   ]
  },
  {
   "cell_type": "markdown",
   "metadata": {},
   "source": [
    "Pandas allows you to load the required data sets directly from github:"
   ]
  },
  {
   "cell_type": "code",
   "execution_count": null,
   "metadata": {
    "slideshow": {
     "slide_type": "fragment"
    }
   },
   "outputs": [],
   "source": [
    "# Load Data\n",
    "transactions    = pd.read_csv('https://github.com/pds2021/course/raw/main/assignments/Data/01/sales_train.csv.gz')\n",
    "items           = pd.read_csv('https://raw.githubusercontent.com/pds2021/course/main/assignments/Data/01/items.csv')\n",
    "item_categories = pd.read_csv('https://raw.githubusercontent.com/pds2021/course/main/assignments/Data/01/item_categories.csv')"
   ]
  },
  {
   "cell_type": "markdown",
   "metadata": {
    "slideshow": {
     "slide_type": "slide"
    }
   },
   "source": [
    "## Get to know the data\n",
    "Print the **shape** of the loaded dataframes and use [`df.head`](https://pandas.pydata.org/pandas-docs/stable/generated/pandas.DataFrame.head.html) function to print several rows. Examine the features you are given."
   ]
  },
  {
   "cell_type": "code",
   "execution_count": null,
   "metadata": {},
   "outputs": [],
   "source": [
    "for df in [transactions, items, item_categories]:\n",
    "    print('--------------------------------------------------------')\n",
    "    print(df.shape)\n",
    "    print(df.head(5))\n",
    "    print('\\n\\n\\n')"
   ]
  },
  {
   "cell_type": "markdown",
   "metadata": {
    "slideshow": {
     "slide_type": "slide"
    }
   },
   "source": [
    "## Maximum total revenue among all the shops\n",
    "\n",
    "Now use your `pandas` skills to get answers for the following questions. \n",
    "The first question is:\n",
    "\n",
    "What was the maximum total revenue among all the shops in April, 2013? \n",
    "\n",
    "* Hereinafter *revenue* refers to total sales minus value of goods returned.\n",
    "\n",
    "*Hints:*\n",
    "\n",
    "* Sometimes items are returned, find such examples in the dataset. \n",
    "* It is handy to split `date` field into [`day`, `month`, `year`] components and use `df.year == 13` and `df.month == 4` in order to select target subset of dates.\n",
    "* You may work with `date` feature as with strings, or you may first convert it to `pd.datetime` type with `pd.to_datetime` function, but do not forget to set correct `format` argument."
   ]
  },
  {
   "cell_type": "code",
   "execution_count": null,
   "metadata": {},
   "outputs": [],
   "source": [
    "df = transactions\n",
    "df['pd_date'] = pd.to_datetime(df['date'], format='%d.%m.%Y')"
   ]
  },
  {
   "cell_type": "code",
   "execution_count": null,
   "metadata": {},
   "outputs": [],
   "source": [
    "df = transactions\n",
    "df['pd_date'] = pd.to_datetime(df['date'], format='%d.%m.%Y')\n",
    "df['day'] = df['pd_date'].dt.day\n",
    "df['month'] = df['pd_date'].dt.month\n",
    "df['year'] = df['pd_date'].dt.year\n",
    "df['revenue'] = df['item_cnt_day'] * df['item_price']"
   ]
  },
  {
   "cell_type": "code",
   "execution_count": null,
   "metadata": {},
   "outputs": [],
   "source": [
    "df_filtered = df[(df.year == 2013) & (df.month == 4)]\n",
    "revenues = df_filtered.groupby('shop_id').revenue.sum()"
   ]
  },
  {
   "cell_type": "code",
   "execution_count": null,
   "metadata": {},
   "outputs": [],
   "source": [
    "max_revenue = revenues.max()"
   ]
  },
  {
   "cell_type": "code",
   "execution_count": null,
   "metadata": {},
   "outputs": [],
   "source": [
    "max_revenue"
   ]
  },
  {
   "cell_type": "markdown",
   "metadata": {},
   "source": [
    "In addition we can find the index (shop id) of the row with the max value in the column using ```idxmax()```"
   ]
  },
  {
   "cell_type": "code",
   "execution_count": null,
   "metadata": {},
   "outputs": [],
   "source": [
    "revenues.idxmax()"
   ]
  },
  {
   "cell_type": "markdown",
   "metadata": {
    "slideshow": {
     "slide_type": "slide"
    }
   },
   "source": [
    "## Constant price\n",
    "\n",
    "How many items are there, such that their price stays constant (to the best of our knowledge) during the whole period of time?\n",
    "\n",
    "* Let's assume, that the items are returned for the same price as they had been sold.\n",
    "* Remember, the data can sometimes be noisy."
   ]
  },
  {
   "cell_type": "code",
   "execution_count": null,
   "metadata": {},
   "outputs": [],
   "source": [
    "num_items_constant_price = np.sum(transactions.groupby('item_id').item_price.nunique() == 1)\n",
    "num_items_constant_price"
   ]
  },
  {
   "cell_type": "markdown",
   "metadata": {
    "slideshow": {
     "slide_type": "slide"
    }
   },
   "source": [
    "## Variance of sold items per day\n",
    "\n",
    "What was the variance of the number of sold items per day sequence for the shop with `shop_id = 25` in December, 2014?\n",
    "\n",
    "* Do not count the items that were sold but returned back later.\n",
    "* Fill `total_num_items_sold`: An (ordered) array that contains the total number of items sold on each day \n",
    "* Then compute variance of the of `total_num_items_sold`\n",
    "* If there were no sales at a given day, ***do not*** impute missing value with zero, just ignore that day"
   ]
  },
  {
   "cell_type": "code",
   "execution_count": null,
   "metadata": {},
   "outputs": [],
   "source": [
    "shop_id = 25\n",
    "\n",
    "df_filtered = df[(df.shop_id == shop_id) & (df.year == 2014) & (df.month == 12)].sort_values(by='pd_date')"
   ]
  },
  {
   "cell_type": "code",
   "execution_count": null,
   "metadata": {},
   "outputs": [],
   "source": [
    "total_num_items_sold = df_filtered.groupby('pd_date').item_cnt_day.sum()"
   ]
  },
  {
   "cell_type": "code",
   "execution_count": null,
   "metadata": {},
   "outputs": [],
   "source": [
    "total_num_items_sold_var = total_num_items_sold.var()"
   ]
  },
  {
   "cell_type": "code",
   "execution_count": null,
   "metadata": {},
   "outputs": [],
   "source": [
    "total_num_items_sold_var"
   ]
  },
  {
   "cell_type": "markdown",
   "metadata": {
    "slideshow": {
     "slide_type": "slide"
    }
   },
   "source": [
    "## Vizualization of the daily revenue\n",
    "\n",
    "Use `total_num_items_sold` to plot the daily revenue of `shop_id = 25` in December, 2014.\n",
    "\n",
    "* y-label: 'Num items'\n",
    "* x-label: 'Day'\n",
    "* plot-title: 'Daily revenue for shop_id = 25'\n",
    "* use plt.show() to display the plot in the end"
   ]
  },
  {
   "cell_type": "code",
   "execution_count": null,
   "metadata": {},
   "outputs": [],
   "source": [
    "plt.plot(total_num_items_sold)\n",
    "plt.xlabel('Day')\n",
    "plt.ylabel('Num Items')\n",
    "plt.title(\"Daily revenue for shop_id = {}\".format(shop_id))\n",
    "plt.show()"
   ]
  },
  {
   "cell_type": "markdown",
   "metadata": {
    "slideshow": {
     "slide_type": "slide"
    }
   },
   "source": [
    "## Final submission\n",
    "Only for the submission (do not change the code)."
   ]
  },
  {
   "cell_type": "code",
   "execution_count": null,
   "metadata": {},
   "outputs": [],
   "source": [
    "print(max_revenue)\n",
    "print(num_items_constant_price)\n",
    "print(total_num_items_sold)\n",
    "print(total_num_items_sold_var)"
   ]
  },
  {
   "cell_type": "markdown",
   "metadata": {},
   "source": [
    "## Bonus\n",
    "\n",
    "What item category that generated the highest revenue in spring 2014?</b></li>\n",
    "\n",
    "* Submit the `id` of the category found.\n",
    "    \n",
    "* Here, spring is the period from March to Mai."
   ]
  },
  {
   "cell_type": "code",
   "execution_count": null,
   "metadata": {},
   "outputs": [],
   "source": [
    "df_bonus = pd.merge(df[(df.year == 2014) & (df.month < 6) & (df.month > 2)], items)"
   ]
  },
  {
   "cell_type": "code",
   "execution_count": null,
   "metadata": {},
   "outputs": [],
   "source": [
    "category_id_with_max_revenue = df_bonus.groupby('item_category_id').revenue.sum().idxmax()"
   ]
  },
  {
   "cell_type": "code",
   "execution_count": null,
   "metadata": {},
   "outputs": [],
   "source": [
    "print(category_id_with_max_revenue)"
   ]
  },
  {
   "cell_type": "code",
   "execution_count": null,
   "metadata": {},
   "outputs": [],
   "source": [
    "df_bonus.groupby('item_category_id').revenue.sum().loc[20]"
   ]
  }
 ],
 "metadata": {
  "kernelspec": {
   "display_name": "Python 3",
   "language": "python",
   "name": "python3"
  },
  "language_info": {
   "codemirror_mode": {
    "name": "ipython",
    "version": 3
   },
   "file_extension": ".py",
   "mimetype": "text/x-python",
   "name": "python",
   "nbconvert_exporter": "python",
   "pygments_lexer": "ipython3",
   "version": "3.8.5"
  },
  "toc": {
   "base_numbering": "1",
   "nav_menu": {},
   "number_sections": true,
   "sideBar": true,
   "skip_h1_title": false,
   "title_cell": "Table of Contents",
   "title_sidebar": "Contents",
   "toc_cell": false,
   "toc_position": {
    "height": "calc(100% - 180px)",
    "left": "10px",
    "top": "150px",
    "width": "261.0714416503906px"
   },
   "toc_section_display": true,
   "toc_window_display": true
  }
 },
 "nbformat": 4,
 "nbformat_minor": 4
}
