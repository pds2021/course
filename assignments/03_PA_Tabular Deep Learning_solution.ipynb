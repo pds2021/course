{
 "cells": [
  {
   "cell_type": "markdown",
   "metadata": {
    "colab_type": "text",
    "id": "tGc2_6yfntEV"
   },
   "source": [
    "*Practical Data Science 20/21*\n",
    "# Programming Assignment 3 - Predicting Video Game Sales with Deep Learning"
   ]
  },
  {
   "cell_type": "markdown",
   "metadata": {
    "colab_type": "text",
    "id": "IoLPBsbcntEY"
   },
   "source": [
    "In this programming assignment, you need to apply your new deep learning knowledge. In contrast to PA2, you don't have to bother about feature engineering. You will build an artificial neural network with multiple layers that learns features from the raw data."
   ]
  },
  {
   "cell_type": "markdown",
   "metadata": {
    "colab_type": "text",
    "id": "JcWF9CzcntEb"
   },
   "source": [
    "## Introduction and Dataset\n",
    "\n",
    "You are provided with a dataset containing a list of video games with sales greater than 100.000 copies. Again, your task is to build a model predicting the yearly global sales (column ``Global_Sales``) of a video game leveraging the available features.\n",
    "\n",
    "To help you get started, the following blocks of code import the dataset using pandas: "
   ]
  },
  {
   "cell_type": "code",
   "execution_count": 1,
   "metadata": {
    "colab": {},
    "colab_type": "code",
    "id": "f0J9ncohntEd"
   },
   "outputs": [],
   "source": [
    "import pandas as pd"
   ]
  },
  {
   "cell_type": "code",
   "execution_count": 2,
   "metadata": {
    "colab": {
     "base_uri": "https://localhost:8080/",
     "height": 433
    },
    "colab_type": "code",
    "id": "522615ykntEj",
    "outputId": "22abb6ca-58dd-4066-f531-4e0fe29469f5"
   },
   "outputs": [
    {
     "data": {
      "text/html": [
       "<div>\n",
       "<style scoped>\n",
       "    .dataframe tbody tr th:only-of-type {\n",
       "        vertical-align: middle;\n",
       "    }\n",
       "\n",
       "    .dataframe tbody tr th {\n",
       "        vertical-align: top;\n",
       "    }\n",
       "\n",
       "    .dataframe thead th {\n",
       "        text-align: right;\n",
       "    }\n",
       "</style>\n",
       "<table border=\"1\" class=\"dataframe\">\n",
       "  <thead>\n",
       "    <tr style=\"text-align: right;\">\n",
       "      <th></th>\n",
       "      <th>Name</th>\n",
       "      <th>Platform</th>\n",
       "      <th>Year_of_Release</th>\n",
       "      <th>Genre</th>\n",
       "      <th>Global_Sales</th>\n",
       "      <th>Critic_Score</th>\n",
       "      <th>Critic_Count</th>\n",
       "      <th>User_Score</th>\n",
       "      <th>User_Count</th>\n",
       "      <th>Rating</th>\n",
       "    </tr>\n",
       "  </thead>\n",
       "  <tbody>\n",
       "    <tr>\n",
       "      <th>0</th>\n",
       "      <td>Wii Sports</td>\n",
       "      <td>Wii</td>\n",
       "      <td>2006.0</td>\n",
       "      <td>Sports</td>\n",
       "      <td>82.53</td>\n",
       "      <td>76.0</td>\n",
       "      <td>51.0</td>\n",
       "      <td>8.0</td>\n",
       "      <td>322.0</td>\n",
       "      <td>E</td>\n",
       "    </tr>\n",
       "    <tr>\n",
       "      <th>1</th>\n",
       "      <td>Super Mario Bros.</td>\n",
       "      <td>NES</td>\n",
       "      <td>1985.0</td>\n",
       "      <td>Platform</td>\n",
       "      <td>40.24</td>\n",
       "      <td>NaN</td>\n",
       "      <td>NaN</td>\n",
       "      <td>NaN</td>\n",
       "      <td>NaN</td>\n",
       "      <td>NaN</td>\n",
       "    </tr>\n",
       "    <tr>\n",
       "      <th>2</th>\n",
       "      <td>Mario Kart Wii</td>\n",
       "      <td>Wii</td>\n",
       "      <td>2008.0</td>\n",
       "      <td>Racing</td>\n",
       "      <td>35.52</td>\n",
       "      <td>82.0</td>\n",
       "      <td>73.0</td>\n",
       "      <td>8.3</td>\n",
       "      <td>709.0</td>\n",
       "      <td>E</td>\n",
       "    </tr>\n",
       "    <tr>\n",
       "      <th>3</th>\n",
       "      <td>Wii Sports Resort</td>\n",
       "      <td>Wii</td>\n",
       "      <td>2009.0</td>\n",
       "      <td>Sports</td>\n",
       "      <td>32.77</td>\n",
       "      <td>80.0</td>\n",
       "      <td>73.0</td>\n",
       "      <td>8.0</td>\n",
       "      <td>192.0</td>\n",
       "      <td>E</td>\n",
       "    </tr>\n",
       "    <tr>\n",
       "      <th>4</th>\n",
       "      <td>Pokemon Red/Pokemon Blue</td>\n",
       "      <td>GB</td>\n",
       "      <td>1996.0</td>\n",
       "      <td>Role-Playing</td>\n",
       "      <td>31.37</td>\n",
       "      <td>NaN</td>\n",
       "      <td>NaN</td>\n",
       "      <td>NaN</td>\n",
       "      <td>NaN</td>\n",
       "      <td>NaN</td>\n",
       "    </tr>\n",
       "    <tr>\n",
       "      <th>...</th>\n",
       "      <td>...</td>\n",
       "      <td>...</td>\n",
       "      <td>...</td>\n",
       "      <td>...</td>\n",
       "      <td>...</td>\n",
       "      <td>...</td>\n",
       "      <td>...</td>\n",
       "      <td>...</td>\n",
       "      <td>...</td>\n",
       "      <td>...</td>\n",
       "    </tr>\n",
       "    <tr>\n",
       "      <th>16706</th>\n",
       "      <td>Samurai Warriors: Sanada Maru</td>\n",
       "      <td>PS3</td>\n",
       "      <td>2016.0</td>\n",
       "      <td>Action</td>\n",
       "      <td>0.01</td>\n",
       "      <td>NaN</td>\n",
       "      <td>NaN</td>\n",
       "      <td>NaN</td>\n",
       "      <td>NaN</td>\n",
       "      <td>NaN</td>\n",
       "    </tr>\n",
       "    <tr>\n",
       "      <th>16707</th>\n",
       "      <td>LMA Manager 2007</td>\n",
       "      <td>X360</td>\n",
       "      <td>2006.0</td>\n",
       "      <td>Sports</td>\n",
       "      <td>0.01</td>\n",
       "      <td>NaN</td>\n",
       "      <td>NaN</td>\n",
       "      <td>NaN</td>\n",
       "      <td>NaN</td>\n",
       "      <td>NaN</td>\n",
       "    </tr>\n",
       "    <tr>\n",
       "      <th>16708</th>\n",
       "      <td>Haitaka no Psychedelica</td>\n",
       "      <td>PSV</td>\n",
       "      <td>2016.0</td>\n",
       "      <td>Adventure</td>\n",
       "      <td>0.01</td>\n",
       "      <td>NaN</td>\n",
       "      <td>NaN</td>\n",
       "      <td>NaN</td>\n",
       "      <td>NaN</td>\n",
       "      <td>NaN</td>\n",
       "    </tr>\n",
       "    <tr>\n",
       "      <th>16709</th>\n",
       "      <td>Spirits &amp; Spells</td>\n",
       "      <td>GBA</td>\n",
       "      <td>2003.0</td>\n",
       "      <td>Platform</td>\n",
       "      <td>0.01</td>\n",
       "      <td>NaN</td>\n",
       "      <td>NaN</td>\n",
       "      <td>NaN</td>\n",
       "      <td>NaN</td>\n",
       "      <td>NaN</td>\n",
       "    </tr>\n",
       "    <tr>\n",
       "      <th>16710</th>\n",
       "      <td>Winning Post 8 2016</td>\n",
       "      <td>PSV</td>\n",
       "      <td>2016.0</td>\n",
       "      <td>Simulation</td>\n",
       "      <td>0.01</td>\n",
       "      <td>NaN</td>\n",
       "      <td>NaN</td>\n",
       "      <td>NaN</td>\n",
       "      <td>NaN</td>\n",
       "      <td>NaN</td>\n",
       "    </tr>\n",
       "  </tbody>\n",
       "</table>\n",
       "<p>16711 rows × 10 columns</p>\n",
       "</div>"
      ],
      "text/plain": [
       "                                Name Platform  Year_of_Release         Genre  \\\n",
       "0                         Wii Sports      Wii           2006.0        Sports   \n",
       "1                  Super Mario Bros.      NES           1985.0      Platform   \n",
       "2                     Mario Kart Wii      Wii           2008.0        Racing   \n",
       "3                  Wii Sports Resort      Wii           2009.0        Sports   \n",
       "4           Pokemon Red/Pokemon Blue       GB           1996.0  Role-Playing   \n",
       "...                              ...      ...              ...           ...   \n",
       "16706  Samurai Warriors: Sanada Maru      PS3           2016.0        Action   \n",
       "16707               LMA Manager 2007     X360           2006.0        Sports   \n",
       "16708        Haitaka no Psychedelica      PSV           2016.0     Adventure   \n",
       "16709               Spirits & Spells      GBA           2003.0      Platform   \n",
       "16710            Winning Post 8 2016      PSV           2016.0    Simulation   \n",
       "\n",
       "       Global_Sales  Critic_Score  Critic_Count  User_Score  User_Count Rating  \n",
       "0             82.53          76.0          51.0         8.0       322.0      E  \n",
       "1             40.24           NaN           NaN         NaN         NaN    NaN  \n",
       "2             35.52          82.0          73.0         8.3       709.0      E  \n",
       "3             32.77          80.0          73.0         8.0       192.0      E  \n",
       "4             31.37           NaN           NaN         NaN         NaN    NaN  \n",
       "...             ...           ...           ...         ...         ...    ...  \n",
       "16706          0.01           NaN           NaN         NaN         NaN    NaN  \n",
       "16707          0.01           NaN           NaN         NaN         NaN    NaN  \n",
       "16708          0.01           NaN           NaN         NaN         NaN    NaN  \n",
       "16709          0.01           NaN           NaN         NaN         NaN    NaN  \n",
       "16710          0.01           NaN           NaN         NaN         NaN    NaN  \n",
       "\n",
       "[16711 rows x 10 columns]"
      ]
     },
     "execution_count": 2,
     "metadata": {},
     "output_type": "execute_result"
    }
   ],
   "source": [
    "data_path = 'https://github.com/pds2021/course/raw/main/assignments/Data/02/video_game_sales.csv'\n",
    "df = pd.read_csv(data_path)\n",
    "df"
   ]
  },
  {
   "cell_type": "markdown",
   "metadata": {
    "colab_type": "text",
    "id": "ofYTnNAR-9MY"
   },
   "source": [
    "## Creating Dataloaders"
   ]
  },
  {
   "cell_type": "markdown",
   "metadata": {
    "colab_type": "text",
    "id": "ipIUFLeW_uSM"
   },
   "source": [
    "First, import everything we need for the tabular model"
   ]
  },
  {
   "cell_type": "code",
   "execution_count": null,
   "metadata": {
    "colab": {},
    "colab_type": "code",
    "id": "gBai9D2s_lpV"
   },
   "outputs": [],
   "source": [
    "!pip install -Uqq fastai  # upgrade fastai on colab\n",
    "from fastai.tabular.all import *\n",
    "from sklearn.model_selection import train_test_split"
   ]
  },
  {
   "cell_type": "markdown",
   "metadata": {
    "colab_type": "text",
    "id": "OvdLUmcaAq9R"
   },
   "source": [
    "To create [TabularDataLoaders](https://docs.fast.ai/tabular.data.html#TabularDataLoaders), you need to assign the variables to dependent, categorical and continuous variables"
   ]
  },
  {
   "cell_type": "code",
   "execution_count": null,
   "metadata": {
    "colab": {},
    "colab_type": "code",
    "id": "Vdezd0j7_Wdi"
   },
   "outputs": [],
   "source": [
    "# Write your code here\n",
    "y_names = 'Global_Sales'\n",
    "cat_names = ['Platform', 'Genre', 'Rating']\n",
    "cont_names = ['Year_of_Release', 'Critic_Score', 'Critic_Count', 'User_Score', 'User_Count']"
   ]
  },
  {
   "cell_type": "markdown",
   "metadata": {
    "colab_type": "text",
    "id": "iLhapopYGT3h"
   },
   "source": [
    "fast.ai contains classes that define [transformations](https://docs.fast.ai/tabular.transform.html) for preprocessing. Provide a list of appropriate preprocessing steps."
   ]
  },
  {
   "cell_type": "code",
   "execution_count": null,
   "metadata": {
    "colab": {},
    "colab_type": "code",
    "id": "_9KQFBwG_dJ0"
   },
   "outputs": [],
   "source": [
    "# Write your code here\n",
    "procs = [FillMissing, Categorify, Normalize]"
   ]
  },
  {
   "cell_type": "markdown",
   "metadata": {
    "colab_type": "text",
    "id": "n9lT7cAmA5F2"
   },
   "source": [
    "You also need to define the train and validation set (using indices!). \n",
    "- Use a train/test split of 80/20"
   ]
  },
  {
   "cell_type": "code",
   "execution_count": null,
   "metadata": {
    "colab": {},
    "colab_type": "code",
    "id": "LUcbJryxn12c"
   },
   "outputs": [],
   "source": [
    "# Write your code here\n",
    "train_idx, valid_idx = train_test_split(range(len(df)), test_size=0.2, random_state = 0)"
   ]
  },
  {
   "cell_type": "markdown",
   "metadata": {
    "colab_type": "text",
    "id": "SqUQuG7UB3qw"
   },
   "source": [
    "Now you're ready to create the [TabularDataLoaders](https://docs.fast.ai/tabular.data.html#TabularDataLoaders) that you'll use for training.\n",
    "- Use the Factory Method that creates the `dls` from a dataframe\n",
    "- Set the batch size to 16"
   ]
  },
  {
   "cell_type": "code",
   "execution_count": null,
   "metadata": {
    "colab": {},
    "colab_type": "code",
    "id": "_BTDl0Rfn7UO"
   },
   "outputs": [],
   "source": [
    "dls = TabularDataLoaders.from_df(df=df, y_names=y_names, valid_idx=valid_idx, \n",
    "                                 procs=procs, cat_names=cat_names, cont_names=cont_names, \n",
    "                                 bs=64)"
   ]
  },
  {
   "cell_type": "markdown",
   "metadata": {
    "colab_type": "text",
    "id": "TnVNxb0eAASO"
   },
   "source": [
    "How many features numerical and categorical feautures are created by the dataloaders after preprocessing the data?\n",
    "- print the names and the count of these features"
   ]
  },
  {
   "cell_type": "code",
   "execution_count": null,
   "metadata": {
    "colab": {
     "base_uri": "https://localhost:8080/",
     "height": 54
    },
    "colab_type": "code",
    "id": "YrE-dJ0oARl3",
    "outputId": "d9c83762-77ac-456c-84b2-04cf99189eff"
   },
   "outputs": [],
   "source": [
    "# Write your code here\n",
    "print('Categorical feature names:', dls.cat_names)\n",
    "print('Number of categorical features:', len(dls.cat_names))\n",
    "print('Continuous feature names:', dls.cont_names)\n",
    "print('Number of continuous features:', len(dls.cont_names))"
   ]
  },
  {
   "cell_type": "markdown",
   "metadata": {
    "colab_type": "text",
    "id": "NHPY-ROICpQS"
   },
   "source": [
    "## Modeling"
   ]
  },
  {
   "cell_type": "markdown",
   "metadata": {
    "colab_type": "text",
    "id": "2QbIfj5hCz27"
   },
   "source": [
    "### Create Learner\n",
    "\n",
    "Create an [appropriate learner](https://docs.fast.ai/tabular.learner.html) for data. A learner creates a neural network for us.\n",
    "- Use 100 nodes in the first and 50 nodes in the second layer\n",
    "- Choose the [metrics](https://docs.fast.ai/metrics.html) *root mean squared error* and mean *absolute error*. You can pass a list of metrics to the learner."
   ]
  },
  {
   "cell_type": "code",
   "execution_count": null,
   "metadata": {
    "colab": {},
    "colab_type": "code",
    "id": "MPbUxgzKqHf5"
   },
   "outputs": [],
   "source": [
    "# Write your code here\n",
    "# Limiting the output activation fixes instable training and leads to better results\n",
    "range_scale = 1.2\n",
    "y_range = (float(df.iloc[train_idx].Global_Sales.min() * range_scale),\n",
    "           float(df.iloc[train_idx].Global_Sales.max() * range_scale))\n",
    "\n",
    "learn = tabular_learner(dls, layers=[100,50], metrics=[rmse, mae], y_range=y_range)"
   ]
  },
  {
   "cell_type": "markdown",
   "metadata": {
    "colab_type": "text",
    "id": "e7m5M2PHJoiZ"
   },
   "source": [
    "How many Embeddings are there in the model? Use `learn.dls.show_batch()` to explain why!"
   ]
  },
  {
   "cell_type": "code",
   "execution_count": null,
   "metadata": {
    "colab": {},
    "colab_type": "code",
    "id": "tumJY7DNJjp-"
   },
   "outputs": [],
   "source": [
    "# Write your answer here\n",
    "learn.model"
   ]
  },
  {
   "cell_type": "code",
   "execution_count": null,
   "metadata": {},
   "outputs": [],
   "source": [
    "learn.dls.show_batch()"
   ]
  },
  {
   "cell_type": "code",
   "execution_count": null,
   "metadata": {},
   "outputs": [],
   "source": [
    "# Write your answer here\n",
    "# Eight Embeddings: thre for cat. Platform, Genre, Rating and five\n",
    "# additional embedding layers for continuous variables containing na-values"
   ]
  },
  {
   "cell_type": "markdown",
   "metadata": {
    "colab_type": "text",
    "id": "iL4SQ73uDCMg"
   },
   "source": [
    "### Find the learning rate \n",
    "You need to find a suitable learning rate for the training\n",
    "- Read the [docs](https://fastai1.fast.ai/callbacks.one_cycle.html) how to find the right learning rate\n",
    "- Repeat this step until you get a meaningful plot ;)"
   ]
  },
  {
   "cell_type": "code",
   "execution_count": null,
   "metadata": {
    "colab": {
     "base_uri": "https://localhost:8080/",
     "height": 54
    },
    "colab_type": "code",
    "id": "stIFtKUBqMmf",
    "outputId": "f1c5ff74-a8ab-4a77-bbd9-070e86ce4c19"
   },
   "outputs": [],
   "source": [
    "# Write your code here\n",
    "learn.lr_find()"
   ]
  },
  {
   "cell_type": "markdown",
   "metadata": {
    "colab_type": "text",
    "id": "mZNWMhpdDGIx"
   },
   "source": [
    "### Fit the model\n",
    "\n",
    "- How many epochs (cycles) are necessary to train the model? Is there a problem with overfitting?"
   ]
  },
  {
   "cell_type": "code",
   "execution_count": null,
   "metadata": {
    "colab": {
     "base_uri": "https://localhost:8080/",
     "height": 160
    },
    "colab_type": "code",
    "id": "t1Vg9n-6DImj",
    "outputId": "919dc9d8-7707-4bbd-c669-0e3615771d12"
   },
   "outputs": [],
   "source": [
    "# Write your answer and code here\n",
    "# More than 3 rounds/epochs may increase the chances for overfitting\n",
    "# Trial and error!\n",
    "learn.fit_one_cycle(10, lr_max=5e-3)"
   ]
  },
  {
   "cell_type": "markdown",
   "metadata": {
    "colab_type": "text",
    "id": "xStuybwxntEq"
   },
   "source": [
    "### Evaluate the model\n",
    "\n",
    "Report the in-sample as well as the out-of-sample performance usinge the mean absolute error."
   ]
  },
  {
   "cell_type": "code",
   "execution_count": null,
   "metadata": {
    "colab": {
     "base_uri": "https://localhost:8080/",
     "height": 54
    },
    "colab_type": "code",
    "id": "bBbtzt8LqS_s",
    "outputId": "52c052fa-35b3-45c6-af77-976066e4fd6c"
   },
   "outputs": [],
   "source": [
    "# Write your code here\n",
    "print(\"in-sample performance: {}\".format(np.array(learn.validate(ds_idx=0)[2])))"
   ]
  },
  {
   "cell_type": "code",
   "execution_count": null,
   "metadata": {
    "colab": {
     "base_uri": "https://localhost:8080/",
     "height": 54
    },
    "colab_type": "code",
    "id": "WJV0RrZcG9ad",
    "outputId": "cabdaf35-780e-442f-9ecf-2b6a87efcbb1"
   },
   "outputs": [],
   "source": [
    "# Write your code here\n",
    "print(\"out-of-sample performance: {}\".format(np.array(learn.validate(ds_idx=1)[2])))"
   ]
  },
  {
   "cell_type": "markdown",
   "metadata": {},
   "source": [
    "## Discussion"
   ]
  },
  {
   "cell_type": "markdown",
   "metadata": {},
   "source": [
    "Looking at the results, discuss the advantages and disadvantages of deep learning for tabular data."
   ]
  },
  {
   "cell_type": "code",
   "execution_count": null,
   "metadata": {},
   "outputs": [],
   "source": [
    "# Write your answer here\n",
    "# Some points you could have mentioned:\n",
    "\n",
    "# Advantages\n",
    "# - does not require feature engineering\n",
    "# - thus, it can flexibly adapt to new challenges\n",
    "\n",
    "# Disadvantages\n",
    "# - often requires large amount of data\n",
    "# - requires high compiuting power \n",
    "# - training ist often time consuming"
   ]
  }
 ],
 "metadata": {
  "colab": {
   "collapsed_sections": [],
   "name": "Assignment_3_solution.ipynb",
   "provenance": []
  },
  "kernelspec": {
   "display_name": "fastai",
   "language": "python",
   "name": "fastai"
  },
  "language_info": {
   "codemirror_mode": {
    "name": "ipython",
    "version": 3
   },
   "file_extension": ".py",
   "mimetype": "text/x-python",
   "name": "python",
   "nbconvert_exporter": "python",
   "pygments_lexer": "ipython3",
   "version": "3.8.6"
  },
  "toc": {
   "base_numbering": 1,
   "nav_menu": {},
   "number_sections": true,
   "sideBar": true,
   "skip_h1_title": true,
   "title_cell": "Table of Contents",
   "title_sidebar": "Contents",
   "toc_cell": false,
   "toc_position": {},
   "toc_section_display": true,
   "toc_window_display": false
  }
 },
 "nbformat": 4,
 "nbformat_minor": 4
}
