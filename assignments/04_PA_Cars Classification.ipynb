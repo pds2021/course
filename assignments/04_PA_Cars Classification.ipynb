{
 "cells": [
  {
   "cell_type": "markdown",
   "metadata": {
    "colab_type": "text",
    "id": "tGc2_6yfntEV"
   },
   "source": [
    "*Practical Data Science 20/21*\n",
    "# Programming Assignment 4 - Cars Classification"
   ]
  },
  {
   "cell_type": "markdown",
   "metadata": {
    "colab_type": "text",
    "id": "IoLPBsbcntEY"
   },
   "source": [
    "In this programming assignment, you will need to apply your new deep learning knowledge on image classification."
   ]
  },
  {
   "cell_type": "markdown",
   "metadata": {
    "colab_type": "text",
    "id": "nvf0fWGQDsFE"
   },
   "source": [
    "First, you need to import all the necessary packages for this assignment."
   ]
  },
  {
   "cell_type": "code",
   "execution_count": null,
   "metadata": {
    "colab": {},
    "colab_type": "code",
    "id": "f0J9ncohntEd"
   },
   "outputs": [],
   "source": [
    "!pip install -Uqq fastai  # upgrade fastai on colab"
   ]
  },
  {
   "cell_type": "code",
   "execution_count": null,
   "metadata": {
    "colab": {},
    "colab_type": "code",
    "id": "f0J9ncohntEd"
   },
   "outputs": [],
   "source": [
    "from fastai.vision.all import *\n",
    "from scipy.io import loadmat #this package is used to load matlab files"
   ]
  },
  {
   "cell_type": "markdown",
   "metadata": {
    "colab_type": "text",
    "id": "JcWF9CzcntEb"
   },
   "source": [
    "## Introduction and Dataset\n",
    "\n",
    "You are provided with the [Cars Dataset](https://ai.stanford.edu/~jkrause/cars/car_dataset.html) by [Krause, Jonathan, et al., 2013](https://www.cv-foundation.org//openaccess/content_iccv_workshops_2013/W19/papers/Krause_3D_Object_Representations_2013_ICCV_paper.pdf). The Cars dataset contains 16,185 images of 196 classes of cars. The data is split into 8,144 training images and 8,041 testing images, where each class has been split roughly in a 50-50 split. Classes are typically at the level of Make, Model, Year, e.g. 2012 Tesla Model S or 2012 BMW M3 coupe.\n",
    "\n",
    "![Example Car](https://ai.stanford.edu/~jkrause/cars/car4.jpg)"
   ]
  },
  {
   "cell_type": "markdown",
   "metadata": {
    "colab_type": "text",
    "id": "gTWUFCpLDmvI"
   },
   "source": [
    "To help you get started, you can use the following code block to download and store the data (**this may take a while!**)\n",
    "- You may use the Google Drive [Integration](https://colab.research.google.com/notebooks/io.ipynb) for Google Colab to save and quickly access the data."
   ]
  },
  {
   "cell_type": "code",
   "execution_count": null,
   "metadata": {
    "colab": {
     "base_uri": "https://localhost:8080/",
     "height": 386
    },
    "colab_type": "code",
    "id": "QTOYL4syC1wM",
    "outputId": "8cce6dd5-8600-481f-f675-9fba1adf8683"
   },
   "outputs": [],
   "source": [
    "!wget 'http://imagenet.stanford.edu/internal/car196/car_ims.tgz'\n",
    "!wget 'http://imagenet.stanford.edu/internal/car196/cars_annos.mat'\n",
    "!tar -xf car_ims.tgz"
   ]
  },
  {
   "cell_type": "markdown",
   "metadata": {
    "colab_type": "text",
    "id": "fB46dBJ0EFDa"
   },
   "source": [
    "All images of this data set are now stored in the `car_ims`directory. List the first 10 image files in this directory."
   ]
  },
  {
   "cell_type": "code",
   "execution_count": null,
   "metadata": {
    "colab": {
     "base_uri": "https://localhost:8080/",
     "height": 185
    },
    "colab_type": "code",
    "id": "WjbFhX02EFWM",
    "outputId": "f8fc521c-6d98-4e16-a3fb-bcc3ca28f4e1"
   },
   "outputs": [],
   "source": [
    "# Write your code here"
   ]
  },
  {
   "cell_type": "markdown",
   "metadata": {
    "colab_type": "text",
    "id": "EkLARc2mLOwM"
   },
   "source": [
    "Different data sets are labeled in many different ways. The images of this data set are stored in only one directory with their `id` as file name. The labels are stored in a different file called 'cars_annos.mat'. You can use the following code block to load this file into a DataFrame."
   ]
  },
  {
   "cell_type": "code",
   "execution_count": null,
   "metadata": {
    "colab": {
     "base_uri": "https://localhost:8080/",
     "height": 195
    },
    "colab_type": "code",
    "id": "522615ykntEj",
    "outputId": "777e6a74-3f35-48b7-a718-5f406a663ef8"
   },
   "outputs": [],
   "source": [
    "# Create Labels from class names\n",
    "cars_annos = loadmat('cars_annos.mat')\n",
    "class_names = cars_annos['class_names']\n",
    "labels = [c for c in class_names[0]]\n",
    "labels = pd.DataFrame(labels, columns=['labels'])\n",
    "labels['class'] = labels.index+1\n",
    "# Create Data Frame from .mat file\n",
    "frame = [[i.flat[0] for i in line] for line in cars_annos['annotations'][0]]\n",
    "columns = [ 'fname','bbox_x1', 'bbox_y1', 'bbox_x2', 'bbox_y2', 'class','test']\n",
    "df = pd.DataFrame(frame, columns=columns)\n",
    "df = df.merge(labels, on='class')\n",
    "df.head()"
   ]
  },
  {
   "cell_type": "markdown",
   "metadata": {
    "colab_type": "text",
    "id": "yX_0BdumMmJA"
   },
   "source": [
    "For now, we only want to work with the train set of the data, i.e, the files where the column `test` is 0. Filter the DataFrame `df` accordingly and save it as `df_train`. "
   ]
  },
  {
   "cell_type": "code",
   "execution_count": null,
   "metadata": {
    "colab": {},
    "colab_type": "code",
    "id": "4f8KfG9rNB-N"
   },
   "outputs": [],
   "source": [
    "# Write your code here"
   ]
  },
  {
   "cell_type": "markdown",
   "metadata": {
    "colab_type": "text",
    "id": "ofYTnNAR-9MY"
   },
   "source": [
    "## Creating the Dataloaders"
   ]
  },
  {
   "cell_type": "markdown",
   "metadata": {
    "colab_type": "text",
    "id": "ZNpGtnjh_KU0"
   },
   "source": [
    "Use the [data block API](https://docs.fast.ai/data.block.html#DataBlock) to load the data using `df_train`\n",
    "\n",
    "1. Define the blocks\n",
    "1. Define the `get_x`and `get_y` using the `ColReader()` function (see [docs](https://docs.fast.ai/data.transforms#ColReader) or [example](https://docs.fast.ai/tutorial.vision.html#Multi-label-classification---With-the-data-block-API))\n",
    "1. Split the images randomly into 85% train and 15% validation set ([docs](https://docs.fast.ai/data.transforms#RandomSplitter), use seed = 42)\n",
    "1. Define suitable [transforms](https://docs.fast.ai/vision.augment.html#aug_transforms)  "
   ]
  },
  {
   "cell_type": "code",
   "execution_count": null,
   "metadata": {},
   "outputs": [],
   "source": [
    "# Write your code here"
   ]
  },
  {
   "cell_type": "markdown",
   "metadata": {},
   "source": [
    "5. Create the dataloaders from `df_train`"
   ]
  },
  {
   "cell_type": "code",
   "execution_count": null,
   "metadata": {},
   "outputs": [],
   "source": [
    "# Write your code here"
   ]
  },
  {
   "cell_type": "markdown",
   "metadata": {
    "colab_type": "text",
    "id": "n9lT7cAmA5F2"
   },
   "source": [
    "Now, use the Dataloaders to display three rows of random pictures from a batch."
   ]
  },
  {
   "cell_type": "code",
   "execution_count": null,
   "metadata": {
    "colab": {
     "base_uri": "https://localhost:8080/",
     "height": 873
    },
    "colab_type": "code",
    "id": "ZqpPoLJaLAwA",
    "outputId": "b781b160-d085-404b-bce4-fe8f4a9a6152"
   },
   "outputs": [],
   "source": [
    "# Write your code here"
   ]
  },
  {
   "cell_type": "markdown",
   "metadata": {
    "colab_type": "text",
    "id": "TnVNxb0eAASO"
   },
   "source": [
    "The data set description states that there are 196 vehicle classes in the data set. Verify this statement using the dataloaders.\n",
    "\n",
    "__Hint__: `dls.vocab` displays all classes!"
   ]
  },
  {
   "cell_type": "code",
   "execution_count": null,
   "metadata": {
    "colab": {
     "base_uri": "https://localhost:8080/",
     "height": 34
    },
    "colab_type": "code",
    "id": "YrE-dJ0oARl3",
    "outputId": "8606cfc2-fef6-4d04-b04f-924d9841345b"
   },
   "outputs": [],
   "source": [
    "# Write your code here"
   ]
  },
  {
   "cell_type": "markdown",
   "metadata": {
    "colab_type": "text",
    "id": "NHPY-ROICpQS"
   },
   "source": [
    "## Train the Model"
   ]
  },
  {
   "cell_type": "markdown",
   "metadata": {
    "colab_type": "text",
    "id": "2QbIfj5hCz27"
   },
   "source": [
    "Once the data is ready you can start training a model. Use the `cnn_learner` to create a model with \n",
    "- a Resnet34 architecture\n",
    "- the metrics *accuracy* and [*top-5 accuracy*](https://docs.fast.ai/metrics.html#top_k_accuracy)"
   ]
  },
  {
   "cell_type": "code",
   "execution_count": null,
   "metadata": {
    "colab": {},
    "colab_type": "code",
    "id": "MPbUxgzKqHf5"
   },
   "outputs": [],
   "source": [
    "# Write your code here"
   ]
  },
  {
   "cell_type": "markdown",
   "metadata": {
    "colab_type": "text",
    "id": "e7m5M2PHJoiZ"
   },
   "source": [
    "Finally, you can train the model. Apply the concepts from the lecture, i.e., \n",
    "- finding the learning rate\n",
    "- training the last layers\n",
    "- unfreezing the model\n",
    "- train all layers (learning rate rule of thumb!)\n",
    "\n",
    "Always provide an explanation **why** you chose the number of epochs and the learning rate.\n",
    "\n",
    "Save the model after each training \n",
    "```\n",
    "learn.save('stage-x')\n",
    "``` \n",
    "so that you can reload the model \n",
    "``` \n",
    "learn = learn.load('stage-x')\n",
    "``` \n",
    "if something goes wrong. If you load a model with *freezed* layers, you need to *unfreeze* the layers again."
   ]
  },
  {
   "cell_type": "code",
   "execution_count": null,
   "metadata": {
    "colab": {
     "base_uri": "https://localhost:8080/",
     "height": 330
    },
    "colab_type": "code",
    "id": "tumJY7DNJjp-",
    "outputId": "3cbdaefd-9665-4176-e479-f980d877f31f"
   },
   "outputs": [],
   "source": [
    "# Write your code and explanations here"
   ]
  },
  {
   "cell_type": "markdown",
   "metadata": {
    "colab_type": "text",
    "id": "_2d6BIHTVn9l"
   },
   "source": [
    "## Result Interpretation\n",
    "\n",
    "\n",
    "\n",
    "\n"
   ]
  },
  {
   "cell_type": "markdown",
   "metadata": {
    "colab_type": "text",
    "id": "DiWRZ9HH4d_W"
   },
   "source": [
    "Explain the difference betweeen the metrics *accuracy* and *top_5_accuracy*. Why can it be useful to report both metrics?"
   ]
  },
  {
   "cell_type": "code",
   "execution_count": null,
   "metadata": {
    "colab": {},
    "colab_type": "code",
    "id": "-k0YTalT5DbS"
   },
   "outputs": [],
   "source": [
    "# Write your answer here"
   ]
  },
  {
   "cell_type": "markdown",
   "metadata": {
    "colab_type": "text",
    "id": "UMshOOnA4aEK"
   },
   "source": [
    "Use the [ClassificationInterpretation](https://docs.fast.ai/interpret.html) to analyze the results in more detail. What are your main findings?"
   ]
  },
  {
   "cell_type": "code",
   "execution_count": null,
   "metadata": {},
   "outputs": [],
   "source": [
    "# Write your code and explanations here"
   ]
  }
 ],
 "metadata": {
  "accelerator": "GPU",
  "colab": {
   "collapsed_sections": [],
   "name": "Assignment_4_solution.ipynb",
   "provenance": [],
   "toc_visible": true
  },
  "kernelspec": {
   "display_name": "fastai",
   "language": "python",
   "name": "fastai"
  },
  "language_info": {
   "codemirror_mode": {
    "name": "ipython",
    "version": 3
   },
   "file_extension": ".py",
   "mimetype": "text/x-python",
   "name": "python",
   "nbconvert_exporter": "python",
   "pygments_lexer": "ipython3",
   "version": "3.8.6"
  },
  "toc": {
   "base_numbering": 1,
   "nav_menu": {},
   "number_sections": true,
   "sideBar": true,
   "skip_h1_title": true,
   "title_cell": "Table of Contents",
   "title_sidebar": "Contents",
   "toc_cell": false,
   "toc_position": {},
   "toc_section_display": true,
   "toc_window_display": false
  }
 },
 "nbformat": 4,
 "nbformat_minor": 4
}
